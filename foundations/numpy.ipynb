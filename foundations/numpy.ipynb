{
 "cells": [
  {
   "cell_type": "code",
   "execution_count": 1,
   "source": [
    "import numpy as np"
   ],
   "outputs": [],
   "metadata": {}
  },
  {
   "cell_type": "code",
   "execution_count": 2,
   "source": [
    "np.random.seed(seed=1234)"
   ],
   "outputs": [],
   "metadata": {}
  },
  {
   "cell_type": "code",
   "execution_count": 4,
   "source": [
    "# Scalar\r\n",
    "x = np.array(6)\r\n",
    "print (\"x: \", x)\r\n",
    "print (\"x ndim: \", x.ndim) # number of dimensions\r\n",
    "print (\"x shape:\", x.shape) # dimensions\r\n",
    "print (\"x size: \", x.size) # size of elements\r\n",
    "print (\"x dtype: \", x.dtype) # data type"
   ],
   "outputs": [
    {
     "output_type": "stream",
     "name": "stdout",
     "text": [
      "x:  6\n",
      "x ndim:  0\n",
      "x shape: ()\n",
      "x size:  1\n",
      "x dtype:  int32\n"
     ]
    }
   ],
   "metadata": {}
  },
  {
   "cell_type": "code",
   "execution_count": 5,
   "source": [
    "# Vector\r\n",
    "x = np.array([1.3 , 2.2 , 1.7])\r\n",
    "print (\"x: \", x)\r\n",
    "print (\"x ndim: \", x.ndim)\r\n",
    "print (\"x shape:\", x.shape)\r\n",
    "print (\"x size: \", x.size)\r\n",
    "print (\"x dtype: \", x.dtype) # notice the float datatype"
   ],
   "outputs": [
    {
     "output_type": "stream",
     "name": "stdout",
     "text": [
      "x:  [1.3 2.2 1.7]\n",
      "x ndim:  1\n",
      "x shape: (3,)\n",
      "x size:  3\n",
      "x dtype:  float64\n"
     ]
    }
   ],
   "metadata": {}
  },
  {
   "cell_type": "code",
   "execution_count": 6,
   "source": [
    "# Matrix\r\n",
    "x = np.array([[1,2], [3,4]])\r\n",
    "print (\"x:\\n\", x)\r\n",
    "print (\"x ndim: \", x.ndim)\r\n",
    "print (\"x shape:\", x.shape)\r\n",
    "print (\"x size: \", x.size)\r\n",
    "print (\"x dtype: \", x.dtype)"
   ],
   "outputs": [
    {
     "output_type": "stream",
     "name": "stdout",
     "text": [
      "x:\n",
      " [[1 2]\n",
      " [3 4]]\n",
      "x ndim:  2\n",
      "x shape: (2, 2)\n",
      "x size:  4\n",
      "x dtype:  int32\n"
     ]
    }
   ],
   "metadata": {}
  },
  {
   "cell_type": "code",
   "execution_count": 7,
   "source": [
    "# 3-D Tensor\r\n",
    "x = np.array([[[1,2],[3,4]],[[5,6],[7,8]]])\r\n",
    "print (\"x:\\n\", x)\r\n",
    "print (\"x ndim: \", x.ndim)\r\n",
    "print (\"x shape:\", x.shape)\r\n",
    "print (\"x size: \", x.size)\r\n",
    "print (\"x dtype: \", x.dtype)"
   ],
   "outputs": [
    {
     "output_type": "stream",
     "name": "stdout",
     "text": [
      "x:\n",
      " [[[1 2]\n",
      "  [3 4]]\n",
      "\n",
      " [[5 6]\n",
      "  [7 8]]]\n",
      "x ndim:  3\n",
      "x shape: (2, 2, 2)\n",
      "x size:  8\n",
      "x dtype:  int32\n"
     ]
    }
   ],
   "metadata": {}
  },
  {
   "cell_type": "code",
   "execution_count": 8,
   "source": [
    "# Functions\r\n",
    "print (\"np.zeros((2,2)):\\n\", np.zeros((2,2)))\r\n",
    "print (\"np.ones((2,2)):\\n\", np.ones((2,2)))\r\n",
    "print (\"np.eye((2)):\\n\", np.eye((2))) # identity matrix\r\n",
    "print (\"np.random.random((2,2)):\\n\", np.random.random((2,2)))"
   ],
   "outputs": [
    {
     "output_type": "stream",
     "name": "stdout",
     "text": [
      "np.zeros((2,2)):\n",
      " [[0. 0.]\n",
      " [0. 0.]]\n",
      "np.ones((2,2)):\n",
      " [[1. 1.]\n",
      " [1. 1.]]\n",
      "np.eye((2)):\n",
      " [[1. 0.]\n",
      " [0. 1.]]\n",
      "np.random.random((2,2)):\n",
      " [[0.19151945 0.62210877]\n",
      " [0.43772774 0.78535858]]\n"
     ]
    }
   ],
   "metadata": {}
  },
  {
   "cell_type": "code",
   "execution_count": 9,
   "source": [
    "# Indexing\r\n",
    "x = np.array([1, 2, 3])\r\n",
    "print (\"x: \", x)\r\n",
    "print (\"x[0]: \", x[0])\r\n",
    "x[0] = 0\r\n",
    "print (\"x: \", x)"
   ],
   "outputs": [
    {
     "output_type": "stream",
     "name": "stdout",
     "text": [
      "x:  [1 2 3]\n",
      "x[0]:  1\n",
      "x:  [0 2 3]\n"
     ]
    }
   ],
   "metadata": {}
  },
  {
   "cell_type": "code",
   "execution_count": 10,
   "source": [
    "# Slicing\r\n",
    "x = np.array([[1,2,3,4], [5,6,7,8], [9,10,11,12]])\r\n",
    "print (x)\r\n",
    "print (\"x column 1: \", x[:, 1])\r\n",
    "print (\"x row 0: \", x[0, :])\r\n",
    "print (\"x rows 0,1 & cols 1,2: \\n\", x[0:2, 1:3])"
   ],
   "outputs": [
    {
     "output_type": "stream",
     "name": "stdout",
     "text": [
      "[[ 1  2  3  4]\n",
      " [ 5  6  7  8]\n",
      " [ 9 10 11 12]]\n",
      "x column 1:  [ 2  6 10]\n",
      "x row 0:  [1 2 3 4]\n",
      "x rows 0,1 & cols 1,2: \n",
      " [[2 3]\n",
      " [6 7]]\n"
     ]
    }
   ],
   "metadata": {}
  },
  {
   "cell_type": "code",
   "execution_count": 11,
   "source": [
    "# Integer array indexing\r\n",
    "print (x)\r\n",
    "rows_to_get = np.array([0, 1, 2])\r\n",
    "print (\"rows_to_get: \", rows_to_get)\r\n",
    "cols_to_get = np.array([0, 2, 1])\r\n",
    "print (\"cols_to_get: \", cols_to_get)\r\n",
    "# Combine sequences above to get values to get\r\n",
    "print (\"indexed values: \", x[rows_to_get, cols_to_get]) # (0, 0), (1, 2), (2, 1)"
   ],
   "outputs": [
    {
     "output_type": "stream",
     "name": "stdout",
     "text": [
      "[[ 1  2  3  4]\n",
      " [ 5  6  7  8]\n",
      " [ 9 10 11 12]]\n",
      "rows_to_get:  [0 1 2]\n",
      "cols_to_get:  [0 2 1]\n",
      "indexed values:  [ 1  7 10]\n"
     ]
    }
   ],
   "metadata": {}
  },
  {
   "cell_type": "code",
   "execution_count": 12,
   "source": [
    "# Boolean array indexing\r\n",
    "x = np.array([[1, 2], [3, 4], [5, 6]])\r\n",
    "print (\"x:\\n\", x)\r\n",
    "print (\"x > 2:\\n\", x > 2)\r\n",
    "print (\"x[x > 2]:\\n\", x[x > 2])"
   ],
   "outputs": [
    {
     "output_type": "stream",
     "name": "stdout",
     "text": [
      "x:\n",
      " [[1 2]\n",
      " [3 4]\n",
      " [5 6]]\n",
      "x > 2:\n",
      " [[False False]\n",
      " [ True  True]\n",
      " [ True  True]]\n",
      "x[x > 2]:\n",
      " [3 4 5 6]\n"
     ]
    }
   ],
   "metadata": {}
  },
  {
   "cell_type": "code",
   "execution_count": 13,
   "source": [
    "# Basic math\r\n",
    "x = np.array([[1,2], [3,4]], dtype=np.float64)\r\n",
    "y = np.array([[1,2], [3,4]], dtype=np.float64)\r\n",
    "print (\"x + y:\\n\", np.add(x, y)) # or x + y\r\n",
    "print (\"x - y:\\n\", np.subtract(x, y)) # or x - y\r\n",
    "print (\"x * y:\\n\", np.multiply(x, y)) # or x * y"
   ],
   "outputs": [
    {
     "output_type": "stream",
     "name": "stdout",
     "text": [
      "x + y:\n",
      " [[2. 4.]\n",
      " [6. 8.]]\n",
      "x - y:\n",
      " [[0. 0.]\n",
      " [0. 0.]]\n",
      "x * y:\n",
      " [[ 1.  4.]\n",
      " [ 9. 16.]]\n"
     ]
    }
   ],
   "metadata": {}
  },
  {
   "cell_type": "code",
   "execution_count": 14,
   "source": [
    "# Dot product\r\n",
    "a = np.array([[1,2,3], [4,5,6]], dtype=np.float64) # we can specify dtype\r\n",
    "b = np.array([[7,8], [9,10], [11, 12]], dtype=np.float64)\r\n",
    "c = a.dot(b)\r\n",
    "print (f\"{a.shape} · {b.shape} = {c.shape}\")\r\n",
    "print (c)"
   ],
   "outputs": [
    {
     "output_type": "stream",
     "name": "stdout",
     "text": [
      "(2, 3) · (3, 2) = (2, 2)\n",
      "[[ 58.  64.]\n",
      " [139. 154.]]\n"
     ]
    }
   ],
   "metadata": {}
  },
  {
   "cell_type": "code",
   "execution_count": 15,
   "source": [
    "# Sum across a dimension\r\n",
    "x = np.array([[1,2],[3,4]])\r\n",
    "print (x)\r\n",
    "print (\"sum all: \", np.sum(x)) # adds all elements\r\n",
    "print (\"sum axis=0: \", np.sum(x, axis=0)) # sum across rows\r\n",
    "print (\"sum axis=1: \", np.sum(x, axis=1)) # sum across columns"
   ],
   "outputs": [
    {
     "output_type": "stream",
     "name": "stdout",
     "text": [
      "[[1 2]\n",
      " [3 4]]\n",
      "sum all:  10\n",
      "sum axis=0:  [4 6]\n",
      "sum axis=1:  [3 7]\n"
     ]
    }
   ],
   "metadata": {}
  },
  {
   "cell_type": "code",
   "execution_count": 16,
   "source": [
    "# Min/max\r\n",
    "x = np.array([[1,2,3], [4,5,6]])\r\n",
    "print (\"min: \", x.min())\r\n",
    "print (\"max: \", x.max())\r\n",
    "print (\"min axis=0: \", x.min(axis=0))\r\n",
    "print (\"min axis=1: \", x.min(axis=1))"
   ],
   "outputs": [
    {
     "output_type": "stream",
     "name": "stdout",
     "text": [
      "min:  1\n",
      "max:  6\n",
      "min axis=0:  [1 2 3]\n",
      "min axis=1:  [1 4]\n"
     ]
    }
   ],
   "metadata": {}
  },
  {
   "cell_type": "code",
   "execution_count": 17,
   "source": [
    "# Broadcasting\r\n",
    "x = np.array([1,2]) # vector\r\n",
    "y = np.array(3) # scalar\r\n",
    "z = x + y\r\n",
    "print (\"z:\\n\", z)"
   ],
   "outputs": [
    {
     "output_type": "stream",
     "name": "stdout",
     "text": [
      "z:\n",
      " [4 5]\n"
     ]
    }
   ],
   "metadata": {}
  },
  {
   "cell_type": "code",
   "execution_count": 18,
   "source": [
    "# Transposing\r\n",
    "x = np.array([[1,2,3], [4,5,6]])\r\n",
    "print (\"x:\\n\", x)\r\n",
    "print (\"x.shape: \", x.shape)\r\n",
    "y = np.transpose(x, (1,0)) # flip dimensions at index 0 and 1\r\n",
    "print (\"y:\\n\", y)\r\n",
    "print (\"y.shape: \", y.shape)"
   ],
   "outputs": [
    {
     "output_type": "stream",
     "name": "stdout",
     "text": [
      "x:\n",
      " [[1 2 3]\n",
      " [4 5 6]]\n",
      "x.shape:  (2, 3)\n",
      "y:\n",
      " [[1 4]\n",
      " [2 5]\n",
      " [3 6]]\n",
      "y.shape:  (3, 2)\n"
     ]
    }
   ],
   "metadata": {}
  },
  {
   "cell_type": "code",
   "execution_count": 19,
   "source": [
    "# Reshaping\r\n",
    "x = np.array([[1,2,3,4,5,6]])\r\n",
    "print (x)\r\n",
    "print (\"x.shape: \", x.shape)\r\n",
    "y = np.reshape(x, (2, 3))\r\n",
    "print (\"y: \\n\", y)\r\n",
    "print (\"y.shape: \", y.shape)\r\n",
    "z = np.reshape(x, (2, -1))\r\n",
    "print (\"z: \\n\", z)\r\n",
    "print (\"z.shape: \", z.shape)"
   ],
   "outputs": [
    {
     "output_type": "stream",
     "name": "stdout",
     "text": [
      "[[1 2 3 4 5 6]]\n",
      "x.shape:  (1, 6)\n",
      "y: \n",
      " [[1 2 3]\n",
      " [4 5 6]]\n",
      "y.shape:  (2, 3)\n",
      "z: \n",
      " [[1 2 3]\n",
      " [4 5 6]]\n",
      "z.shape:  (2, 3)\n"
     ]
    }
   ],
   "metadata": {}
  },
  {
   "cell_type": "code",
   "execution_count": 20,
   "source": [
    "x = np.array([[[1, 1, 1, 1], [2, 2, 2, 2], [3, 3, 3, 3]],\r\n",
    "              [[10, 10, 10, 10], [20, 20, 20, 20], [30, 30, 30, 30]]])\r\n",
    "print (\"x:\\n\", x)\r\n",
    "print (\"x.shape: \", x.shape)"
   ],
   "outputs": [
    {
     "output_type": "stream",
     "name": "stdout",
     "text": [
      "x:\n",
      " [[[ 1  1  1  1]\n",
      "  [ 2  2  2  2]\n",
      "  [ 3  3  3  3]]\n",
      "\n",
      " [[10 10 10 10]\n",
      "  [20 20 20 20]\n",
      "  [30 30 30 30]]]\n",
      "x.shape:  (2, 3, 4)\n"
     ]
    }
   ],
   "metadata": {}
  },
  {
   "cell_type": "code",
   "execution_count": 21,
   "source": [
    "# Unintended reshaping\r\n",
    "z_incorrect = np.reshape(x, (x.shape[1], -1))\r\n",
    "print (\"z_incorrect:\\n\", z_incorrect)\r\n",
    "print (\"z_incorrect.shape: \", z_incorrect.shape)"
   ],
   "outputs": [
    {
     "output_type": "stream",
     "name": "stdout",
     "text": [
      "z_incorrect:\n",
      " [[ 1  1  1  1  2  2  2  2]\n",
      " [ 3  3  3  3 10 10 10 10]\n",
      " [20 20 20 20 30 30 30 30]]\n",
      "z_incorrect.shape:  (3, 8)\n"
     ]
    }
   ],
   "metadata": {}
  },
  {
   "cell_type": "code",
   "execution_count": 22,
   "source": [
    "# Intended reshaping\r\n",
    "y = np.transpose(x, (1,0,2))\r\n",
    "print (\"y:\\n\", y)\r\n",
    "print (\"y.shape: \", y.shape)\r\n",
    "z_correct = np.reshape(y, (y.shape[0], -1))\r\n",
    "print (\"z_correct:\\n\", z_correct)\r\n",
    "print (\"z_correct.shape: \", z_correct.shape)"
   ],
   "outputs": [
    {
     "output_type": "stream",
     "name": "stdout",
     "text": [
      "y:\n",
      " [[[ 1  1  1  1]\n",
      "  [10 10 10 10]]\n",
      "\n",
      " [[ 2  2  2  2]\n",
      "  [20 20 20 20]]\n",
      "\n",
      " [[ 3  3  3  3]\n",
      "  [30 30 30 30]]]\n",
      "y.shape:  (3, 2, 4)\n",
      "z_correct:\n",
      " [[ 1  1  1  1 10 10 10 10]\n",
      " [ 2  2  2  2 20 20 20 20]\n",
      " [ 3  3  3  3 30 30 30 30]]\n",
      "z_correct.shape:  (3, 8)\n"
     ]
    }
   ],
   "metadata": {}
  },
  {
   "cell_type": "code",
   "execution_count": 23,
   "source": [
    "# Adding dimensions\r\n",
    "x = np.array([[1,2,3],[4,5,6]])\r\n",
    "print (\"x:\\n\", x)\r\n",
    "print (\"x.shape: \", x.shape)\r\n",
    "y = np.expand_dims(x, 1) # expand dim 1\r\n",
    "print (\"y: \\n\", y)\r\n",
    "print (\"y.shape: \", y.shape)   # notice extra set of brackets are added"
   ],
   "outputs": [
    {
     "output_type": "stream",
     "name": "stdout",
     "text": [
      "x:\n",
      " [[1 2 3]\n",
      " [4 5 6]]\n",
      "x.shape:  (2, 3)\n",
      "y: \n",
      " [[[1 2 3]]\n",
      "\n",
      " [[4 5 6]]]\n",
      "y.shape:  (2, 1, 3)\n"
     ]
    }
   ],
   "metadata": {}
  },
  {
   "cell_type": "code",
   "execution_count": 24,
   "source": [
    "# Removing dimensions\r\n",
    "x = np.array([[[1,2,3]],[[4,5,6]]])\r\n",
    "print (\"x:\\n\", x)\r\n",
    "print (\"x.shape: \", x.shape)\r\n",
    "y = np.squeeze(x, 1) # squeeze dim 1\r\n",
    "print (\"y: \\n\", y)\r\n",
    "print (\"y.shape: \", y.shape)  # notice extra set of brackets are gone"
   ],
   "outputs": [
    {
     "output_type": "stream",
     "name": "stdout",
     "text": [
      "x:\n",
      " [[[1 2 3]]\n",
      "\n",
      " [[4 5 6]]]\n",
      "x.shape:  (2, 1, 3)\n",
      "y: \n",
      " [[1 2 3]\n",
      " [4 5 6]]\n",
      "y.shape:  (2, 3)\n"
     ]
    }
   ],
   "metadata": {}
  },
  {
   "cell_type": "code",
   "execution_count": null,
   "source": [],
   "outputs": [],
   "metadata": {}
  }
 ],
 "metadata": {
  "orig_nbformat": 4,
  "language_info": {
   "name": "python",
   "version": "3.7.6",
   "mimetype": "text/x-python",
   "codemirror_mode": {
    "name": "ipython",
    "version": 3
   },
   "pygments_lexer": "ipython3",
   "nbconvert_exporter": "python",
   "file_extension": ".py"
  },
  "kernelspec": {
   "name": "python3",
   "display_name": "Python 3.7.6 64-bit ('base': conda)"
  },
  "interpreter": {
   "hash": "b3ba2566441a7c06988d0923437866b63cedc61552a5af99d1f4fb67d367b25f"
  }
 },
 "nbformat": 4,
 "nbformat_minor": 2
}