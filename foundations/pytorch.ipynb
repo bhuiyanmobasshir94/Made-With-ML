{
 "cells": [
  {
   "cell_type": "code",
   "execution_count": 1,
   "source": [
    "# !conda install pytorch torchvision torchaudio cudatoolkit=10.2 -c pytorch"
   ],
   "outputs": [],
   "metadata": {}
  },
  {
   "cell_type": "code",
   "execution_count": 2,
   "source": [
    "import numpy as np\r\n",
    "import torch"
   ],
   "outputs": [],
   "metadata": {}
  },
  {
   "cell_type": "code",
   "execution_count": 3,
   "source": [
    "SEED = 1234"
   ],
   "outputs": [],
   "metadata": {}
  },
  {
   "cell_type": "code",
   "execution_count": 4,
   "source": [
    "# Set seed for reproducibility\r\n",
    "np.random.seed(seed=SEED)\r\n",
    "torch.manual_seed(SEED)"
   ],
   "outputs": [
    {
     "output_type": "execute_result",
     "data": {
      "text/plain": [
       "<torch._C.Generator at 0x16015cb7c70>"
      ]
     },
     "metadata": {},
     "execution_count": 4
    }
   ],
   "metadata": {}
  },
  {
   "cell_type": "code",
   "execution_count": 5,
   "source": [
    "# Creating a random tensor\r\n",
    "x = torch.randn(2, 3) # normal distribution (rand(2,3) -> uniform distribution)\r\n",
    "print(f\"Type: {x.type()}\")\r\n",
    "print(f\"Size: {x.shape}\")\r\n",
    "print(f\"Values: \\n{x}\")"
   ],
   "outputs": [
    {
     "output_type": "stream",
     "name": "stdout",
     "text": [
      "Type: torch.FloatTensor\n",
      "Size: torch.Size([2, 3])\n",
      "Values: \n",
      "tensor([[ 0.0461,  0.4024, -1.0115],\n",
      "        [ 0.2167, -0.6123,  0.5036]])\n"
     ]
    }
   ],
   "metadata": {}
  },
  {
   "cell_type": "code",
   "execution_count": 6,
   "source": [
    "# Zero and Ones tensor\r\n",
    "x = torch.zeros(2, 3)\r\n",
    "print (x)\r\n",
    "x = torch.ones(2, 3)\r\n",
    "print (x)"
   ],
   "outputs": [
    {
     "output_type": "stream",
     "name": "stdout",
     "text": [
      "tensor([[0., 0., 0.],\n",
      "        [0., 0., 0.]])\n",
      "tensor([[1., 1., 1.],\n",
      "        [1., 1., 1.]])\n"
     ]
    }
   ],
   "metadata": {}
  },
  {
   "cell_type": "code",
   "execution_count": 7,
   "source": [
    "# List → Tensor\r\n",
    "x = torch.Tensor([[1, 2, 3],[4, 5, 6]])\r\n",
    "print(f\"Size: {x.shape}\")\r\n",
    "print(f\"Values: \\n{x}\")"
   ],
   "outputs": [
    {
     "output_type": "stream",
     "name": "stdout",
     "text": [
      "Size: torch.Size([2, 3])\n",
      "Values: \n",
      "tensor([[1., 2., 3.],\n",
      "        [4., 5., 6.]])\n"
     ]
    }
   ],
   "metadata": {}
  },
  {
   "cell_type": "code",
   "execution_count": 8,
   "source": [
    "# NumPy array → Tensor\r\n",
    "x = torch.Tensor(np.random.rand(2, 3))\r\n",
    "print(f\"Size: {x.shape}\")\r\n",
    "print(f\"Values: \\n{x}\")"
   ],
   "outputs": [
    {
     "output_type": "stream",
     "name": "stdout",
     "text": [
      "Size: torch.Size([2, 3])\n",
      "Values: \n",
      "tensor([[0.1915, 0.6221, 0.4377],\n",
      "        [0.7854, 0.7800, 0.2726]])\n"
     ]
    }
   ],
   "metadata": {}
  },
  {
   "cell_type": "code",
   "execution_count": 9,
   "source": [
    "# Changing tensor type\r\n",
    "x = torch.Tensor(3, 4)\r\n",
    "print(f\"Type: {x.type()}\")\r\n",
    "x = x.long()\r\n",
    "print(f\"Type: {x.type()}\")"
   ],
   "outputs": [
    {
     "output_type": "stream",
     "name": "stdout",
     "text": [
      "Type: torch.FloatTensor\n",
      "Type: torch.LongTensor\n"
     ]
    }
   ],
   "metadata": {}
  },
  {
   "cell_type": "code",
   "execution_count": 10,
   "source": [
    "# Addition\r\n",
    "x = torch.randn(2, 3)\r\n",
    "y = torch.randn(2, 3)\r\n",
    "z = x + y\r\n",
    "print(f\"Size: {z.shape}\")\r\n",
    "print(f\"Values: \\n{z}\")"
   ],
   "outputs": [
    {
     "output_type": "stream",
     "name": "stdout",
     "text": [
      "Size: torch.Size([2, 3])\n",
      "Values: \n",
      "tensor([[ 0.0761, -0.6775, -0.3988],\n",
      "        [ 3.0633, -0.1589,  0.3514]])\n"
     ]
    }
   ],
   "metadata": {}
  },
  {
   "cell_type": "code",
   "execution_count": 11,
   "source": [
    "# Dot product\r\n",
    "x = torch.randn(2, 3)\r\n",
    "y = torch.randn(3, 2)\r\n",
    "z = torch.mm(x, y)\r\n",
    "print(f\"Size: {z.shape}\")\r\n",
    "print(f\"Values: \\n{z}\")"
   ],
   "outputs": [
    {
     "output_type": "stream",
     "name": "stdout",
     "text": [
      "Size: torch.Size([2, 2])\n",
      "Values: \n",
      "tensor([[ 1.0796, -0.0759],\n",
      "        [ 1.2746, -0.5134]])\n"
     ]
    }
   ],
   "metadata": {}
  },
  {
   "cell_type": "code",
   "execution_count": 12,
   "source": [
    "# Transpose\r\n",
    "x = torch.randn(2, 3)\r\n",
    "print(f\"Size: {x.shape}\")\r\n",
    "print(f\"Values: \\n{x}\")\r\n",
    "y = torch.t(x)\r\n",
    "print(f\"Size: {y.shape}\")\r\n",
    "print(f\"Values: \\n{y}\")"
   ],
   "outputs": [
    {
     "output_type": "stream",
     "name": "stdout",
     "text": [
      "Size: torch.Size([2, 3])\n",
      "Values: \n",
      "tensor([[ 0.8042, -0.1383,  0.3196],\n",
      "        [-1.0187, -1.3147,  2.5228]])\n",
      "Size: torch.Size([3, 2])\n",
      "Values: \n",
      "tensor([[ 0.8042, -1.0187],\n",
      "        [-0.1383, -1.3147],\n",
      "        [ 0.3196,  2.5228]])\n"
     ]
    }
   ],
   "metadata": {}
  },
  {
   "cell_type": "code",
   "execution_count": 13,
   "source": [
    "# Reshape\r\n",
    "x = torch.randn(2, 3)\r\n",
    "z = x.view(3, 2)\r\n",
    "print(f\"Size: {z.shape}\")\r\n",
    "print(f\"Values: \\n{z}\")"
   ],
   "outputs": [
    {
     "output_type": "stream",
     "name": "stdout",
     "text": [
      "Size: torch.Size([3, 2])\n",
      "Values: \n",
      "tensor([[ 0.4501,  0.2709],\n",
      "        [-0.8087, -0.0217],\n",
      "        [-1.0413,  0.0702]])\n"
     ]
    }
   ],
   "metadata": {}
  },
  {
   "cell_type": "code",
   "execution_count": 14,
   "source": [
    "# Dangers of reshaping (unintended consequences)\r\n",
    "x = torch.tensor([\r\n",
    "    [[1,1,1,1], [2,2,2,2], [3,3,3,3]],\r\n",
    "    [[10,10,10,10], [20,20,20,20], [30,30,30,30]]\r\n",
    "])\r\n",
    "print(f\"Size: {x.shape}\")\r\n",
    "print(f\"x: \\n{x}\\n\")\r\n",
    "\r\n",
    "a = x.view(x.size(1), -1)\r\n",
    "print(f\"\\nSize: {a.shape}\")\r\n",
    "print(f\"a: \\n{a}\\n\")\r\n",
    "\r\n",
    "b = x.transpose(0,1).contiguous()\r\n",
    "print(f\"\\nSize: {b.shape}\")\r\n",
    "print(f\"b: \\n{b}\\n\")\r\n",
    "\r\n",
    "c = b.view(b.size(0), -1)\r\n",
    "print(f\"\\nSize: {c.shape}\")\r\n",
    "print(f\"c: \\n{c}\")"
   ],
   "outputs": [
    {
     "output_type": "stream",
     "name": "stdout",
     "text": [
      "Size: torch.Size([2, 3, 4])\n",
      "x: \n",
      "tensor([[[ 1,  1,  1,  1],\n",
      "         [ 2,  2,  2,  2],\n",
      "         [ 3,  3,  3,  3]],\n",
      "\n",
      "        [[10, 10, 10, 10],\n",
      "         [20, 20, 20, 20],\n",
      "         [30, 30, 30, 30]]])\n",
      "\n",
      "\n",
      "Size: torch.Size([3, 8])\n",
      "a: \n",
      "tensor([[ 1,  1,  1,  1,  2,  2,  2,  2],\n",
      "        [ 3,  3,  3,  3, 10, 10, 10, 10],\n",
      "        [20, 20, 20, 20, 30, 30, 30, 30]])\n",
      "\n",
      "\n",
      "Size: torch.Size([3, 2, 4])\n",
      "b: \n",
      "tensor([[[ 1,  1,  1,  1],\n",
      "         [10, 10, 10, 10]],\n",
      "\n",
      "        [[ 2,  2,  2,  2],\n",
      "         [20, 20, 20, 20]],\n",
      "\n",
      "        [[ 3,  3,  3,  3],\n",
      "         [30, 30, 30, 30]]])\n",
      "\n",
      "\n",
      "Size: torch.Size([3, 8])\n",
      "c: \n",
      "tensor([[ 1,  1,  1,  1, 10, 10, 10, 10],\n",
      "        [ 2,  2,  2,  2, 20, 20, 20, 20],\n",
      "        [ 3,  3,  3,  3, 30, 30, 30, 30]])\n"
     ]
    }
   ],
   "metadata": {}
  },
  {
   "cell_type": "code",
   "execution_count": 15,
   "source": [
    "# Dimensional operations\r\n",
    "x = torch.randn(2, 3)\r\n",
    "print(f\"Values: \\n{x}\")\r\n",
    "y = torch.sum(x, dim=0) # add each row's value for every column\r\n",
    "print(f\"Values: \\n{y}\")\r\n",
    "z = torch.sum(x, dim=1) # add each columns's value for every row\r\n",
    "print(f\"Values: \\n{z}\")"
   ],
   "outputs": [
    {
     "output_type": "stream",
     "name": "stdout",
     "text": [
      "Values: \n",
      "tensor([[ 0.5797, -0.0599,  0.1816],\n",
      "        [-0.6797, -0.2567, -1.8189]])\n",
      "Values: \n",
      "tensor([-0.1000, -0.3166, -1.6373])\n",
      "Values: \n",
      "tensor([ 0.7013, -2.7553])\n"
     ]
    }
   ],
   "metadata": {}
  },
  {
   "cell_type": "code",
   "execution_count": 16,
   "source": [
    "x = torch.randn(3, 4)\r\n",
    "print (f\"x: \\n{x}\")\r\n",
    "print (f\"x[:1]: \\n{x[:1]}\")\r\n",
    "print (f\"x[:1, 1:3]: \\n{x[:1, 1:3]}\")"
   ],
   "outputs": [
    {
     "output_type": "stream",
     "name": "stdout",
     "text": [
      "x: \n",
      "tensor([[ 0.2111,  0.3372,  0.6638,  1.0397],\n",
      "        [ 1.8434,  0.6588, -0.2349, -0.0306],\n",
      "        [ 1.7462, -0.0722, -1.6794, -1.7010]])\n",
      "x[:1]: \n",
      "tensor([[0.2111, 0.3372, 0.6638, 1.0397]])\n",
      "x[:1, 1:3]: \n",
      "tensor([[0.3372, 0.6638]])\n"
     ]
    }
   ],
   "metadata": {}
  },
  {
   "cell_type": "code",
   "execution_count": 17,
   "source": [
    "# Select with dimensional indicies\r\n",
    "x = torch.randn(2, 3)\r\n",
    "print(f\"Values: \\n{x}\")\r\n",
    "\r\n",
    "col_indices = torch.LongTensor([0, 2])\r\n",
    "chosen = torch.index_select(x, dim=1, index=col_indices) # values from column 0 & 2\r\n",
    "print(f\"Values: \\n{chosen}\")\r\n",
    "\r\n",
    "row_indices = torch.LongTensor([0, 1])\r\n",
    "col_indices = torch.LongTensor([0, 2])\r\n",
    "chosen = x[row_indices, col_indices] # values from (0, 0) & (2, 1)\r\n",
    "print(f\"Values: \\n{chosen}\")"
   ],
   "outputs": [
    {
     "output_type": "stream",
     "name": "stdout",
     "text": [
      "Values: \n",
      "tensor([[ 0.6486,  1.7653,  1.0812],\n",
      "        [ 1.2436,  0.8971, -0.0784]])\n",
      "Values: \n",
      "tensor([[ 0.6486,  1.0812],\n",
      "        [ 1.2436, -0.0784]])\n",
      "Values: \n",
      "tensor([ 0.6486, -0.0784])\n"
     ]
    }
   ],
   "metadata": {}
  },
  {
   "cell_type": "code",
   "execution_count": 18,
   "source": [
    "# Concatenation\r\n",
    "x = torch.randn(2, 3)\r\n",
    "print(f\"Values: \\n{x}\")\r\n",
    "y = torch.cat([x, x], dim=0) # stack by rows (dim=1 to stack by columns)\r\n",
    "print(f\"Values: \\n{y}\")"
   ],
   "outputs": [
    {
     "output_type": "stream",
     "name": "stdout",
     "text": [
      "Values: \n",
      "tensor([[ 0.5548, -0.0845,  0.5903],\n",
      "        [-1.0032, -1.7873,  0.0538]])\n",
      "Values: \n",
      "tensor([[ 0.5548, -0.0845,  0.5903],\n",
      "        [-1.0032, -1.7873,  0.0538],\n",
      "        [ 0.5548, -0.0845,  0.5903],\n",
      "        [-1.0032, -1.7873,  0.0538]])\n"
     ]
    }
   ],
   "metadata": {}
  },
  {
   "cell_type": "code",
   "execution_count": 19,
   "source": [
    "# Tensors with gradient bookkeeping\r\n",
    "x = torch.rand(3, 4, requires_grad=True)\r\n",
    "y = 3*x + 2\r\n",
    "z = y.mean()\r\n",
    "z.backward() # z has to be scalar\r\n",
    "print(f\"x: \\n{x}\")\r\n",
    "print(f\"x.grad: \\n{x.grad}\")"
   ],
   "outputs": [
    {
     "output_type": "stream",
     "name": "stdout",
     "text": [
      "x: \n",
      "tensor([[0.7379, 0.0846, 0.4245, 0.9778],\n",
      "        [0.6800, 0.3151, 0.3911, 0.8943],\n",
      "        [0.6889, 0.8389, 0.1780, 0.6442]], requires_grad=True)\n",
      "x.grad: \n",
      "tensor([[0.2500, 0.2500, 0.2500, 0.2500],\n",
      "        [0.2500, 0.2500, 0.2500, 0.2500],\n",
      "        [0.2500, 0.2500, 0.2500, 0.2500]])\n"
     ]
    }
   ],
   "metadata": {}
  },
  {
   "cell_type": "code",
   "execution_count": 22,
   "source": [
    "# Is CUDA available?\r\n",
    "print (torch.cuda.is_available())"
   ],
   "outputs": [
    {
     "output_type": "stream",
     "name": "stdout",
     "text": [
      "False\n"
     ]
    }
   ],
   "metadata": {}
  },
  {
   "cell_type": "code",
   "execution_count": 23,
   "source": [
    "# Set device\r\n",
    "device = torch.device('cuda' if torch.cuda.is_available() else 'cpu')\r\n",
    "print (device)"
   ],
   "outputs": [
    {
     "output_type": "stream",
     "name": "stdout",
     "text": [
      "cpu\n"
     ]
    }
   ],
   "metadata": {}
  },
  {
   "cell_type": "code",
   "execution_count": 24,
   "source": [
    "x = torch.rand(2,3)\r\n",
    "print (x.is_cuda)\r\n",
    "x = torch.rand(2,3).to(device) # sTensor is stored on the GPU\r\n",
    "print (x.is_cuda)"
   ],
   "outputs": [
    {
     "output_type": "stream",
     "name": "stdout",
     "text": [
      "False\n",
      "False\n"
     ]
    }
   ],
   "metadata": {}
  },
  {
   "cell_type": "code",
   "execution_count": null,
   "source": [],
   "outputs": [],
   "metadata": {}
  }
 ],
 "metadata": {
  "orig_nbformat": 4,
  "language_info": {
   "name": "python",
   "version": "3.8.11",
   "mimetype": "text/x-python",
   "codemirror_mode": {
    "name": "ipython",
    "version": 3
   },
   "pygments_lexer": "ipython3",
   "nbconvert_exporter": "python",
   "file_extension": ".py"
  },
  "kernelspec": {
   "name": "python3",
   "display_name": "Python 3.8.11 64-bit ('made_with_ml': conda)"
  },
  "interpreter": {
   "hash": "ab8fbbb479b511764f7e4ff3bf2310f00367db2a49e68d84b3f9612294f141f5"
  }
 },
 "nbformat": 4,
 "nbformat_minor": 2
}