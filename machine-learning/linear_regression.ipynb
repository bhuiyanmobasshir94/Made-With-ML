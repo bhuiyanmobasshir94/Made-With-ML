{
  "nbformat": 4,
  "nbformat_minor": 0,
  "metadata": {
    "colab": {
      "name": "linear-regression.ipynb",
      "provenance": [],
      "authorship_tag": "ABX9TyNPcEUwhDf+51UcakNo1yHB",
      "include_colab_link": true
    },
    "kernelspec": {
      "name": "python3",
      "display_name": "Python 3"
    },
    "language_info": {
      "name": "python"
    }
  },
  "cells": [
    {
      "cell_type": "markdown",
      "metadata": {
        "id": "view-in-github",
        "colab_type": "text"
      },
      "source": [
        "<a href=\"https://colab.research.google.com/github/bhuiyanmobasshir94/Made-With-ML/blob/main/machine-learning/linear_regression.ipynb\" target=\"_parent\"><img src=\"https://colab.research.google.com/assets/colab-badge.svg\" alt=\"Open In Colab\"/></a>"
      ]
    },
    {
      "cell_type": "code",
      "metadata": {
        "id": "6_Ji5s9una5u"
      },
      "source": [
        "import numpy as np\n",
        "import pandas as pd\n",
        "import matplotlib.pyplot as plt"
      ],
      "execution_count": 1,
      "outputs": []
    },
    {
      "cell_type": "code",
      "metadata": {
        "id": "maMJS1StniU2"
      },
      "source": [
        "SEED = 1234\n",
        "NUM_SAMPLES = 50"
      ],
      "execution_count": 2,
      "outputs": []
    },
    {
      "cell_type": "code",
      "metadata": {
        "id": "s7Cw4roNnuz1"
      },
      "source": [
        "# Set seed for reproducibility\n",
        "np.random.seed(SEED)"
      ],
      "execution_count": 3,
      "outputs": []
    },
    {
      "cell_type": "code",
      "metadata": {
        "id": "EHZkx_lknylD"
      },
      "source": [
        "# Generate synthetic data\n",
        "def generate_data(num_samples):\n",
        "    \"\"\"Generate dummy data for linear regression.\"\"\"\n",
        "    X = np.array(range(num_samples))\n",
        "    print(f\"X: {X}\")\n",
        "    random_noise = np.random.uniform(-10, 20, size=num_samples)\n",
        "    print(f\"random_noise: {random_noise}\")\n",
        "    y = 3.5*X + random_noise # add some noise\n",
        "    return X, y"
      ],
      "execution_count": 4,
      "outputs": []
    },
    {
      "cell_type": "code",
      "metadata": {
        "colab": {
          "base_uri": "https://localhost:8080/"
        },
        "id": "zHu3vwPNoZhx",
        "outputId": "1c99ee77-6abc-487a-c101-967f8e7aef99"
      },
      "source": [
        "# Generate random (linear) data\n",
        "X, y = generate_data(num_samples=NUM_SAMPLES)\n",
        "print(f\"X: {X}\")\n",
        "print(f\"y: {y}\")\n",
        "data = np.vstack([X, y]).T\n",
        "print (data[:5])"
      ],
      "execution_count": 9,
      "outputs": [
        {
          "output_type": "stream",
          "name": "stdout",
          "text": [
            "X: [ 0  1  2  3  4  5  6  7  8  9 10 11 12 13 14 15 16 17 18 19 20 21 22 23\n",
            " 24 25 26 27 28 29 30 31 32 33 34 35 36 37 38 39 40 41 42 43 44 45 46 47\n",
            " 48 49]\n",
            "random_noise: [ 1.30134989e+01  1.12434609e+01  1.39060155e+01  6.73282485e+00\n",
            "  1.89750960e+01 -5.58529300e+00 -9.11058998e+00  7.81680478e+00\n",
            " -6.57802904e+00  1.85242955e+01 -2.28777567e-01 -4.19143930e+00\n",
            "  3.73434947e+00  1.76120771e+01  1.63720748e+01 -2.42152735e+00\n",
            "  4.40263786e-01 -4.52233805e+00  1.70538815e+01  1.11958449e+01\n",
            "  1.17997538e+01  1.70026351e+01  1.33749140e+01  7.97464342e+00\n",
            " -1.26624265e+00 -5.45814207e+00  5.52397745e-02  9.72655331e+00\n",
            " -7.79972369e+00 -8.34980814e+00 -3.04155582e-01  7.71445413e+00\n",
            "  1.56169570e+01 -1.38812725e+00 -4.80798320e+00 -5.97936382e+00\n",
            "  1.98396149e+01 -4.61506392e+00 -4.73595309e-01  7.04874214e+00\n",
            " -9.71954276e+00  1.70194586e+01  1.93172429e+01  6.70684037e+00\n",
            " -7.45678470e+00 -9.92602813e-03  1.18528603e+01 -5.72693880e+00\n",
            "  6.57406818e+00 -1.80870221e+00]\n",
            "X: [ 0  1  2  3  4  5  6  7  8  9 10 11 12 13 14 15 16 17 18 19 20 21 22 23\n",
            " 24 25 26 27 28 29 30 31 32 33 34 35 36 37 38 39 40 41 42 43 44 45 46 47\n",
            " 48 49]\n",
            "y: [ 13.01349885  14.74346086  20.90601551  17.23282485  32.97509596\n",
            "  11.914707    11.88941002  32.31680478  21.42197096  50.0242955\n",
            "  34.77122243  34.3085607   45.73434947  63.11207713  65.37207485\n",
            "  50.07847265  56.44026379  54.97766195  80.05388154  77.6958449\n",
            "  81.79975385  90.5026351   90.37491402  88.47464342  82.73375735\n",
            "  82.04185793  91.05523977 104.22655331  90.20027631  93.15019186\n",
            " 104.69584442 116.21445413 127.61695701 114.11187275 114.1920168\n",
            " 116.52063618 145.83961486 124.88493608 132.52640469 143.54874214\n",
            " 130.28045724 160.51945863 166.31724293 157.20684037 146.5432153\n",
            " 157.49007397 172.85286029 158.7730612  174.57406818 169.69129779]\n",
            "[[ 0.         13.01349885]\n",
            " [ 1.         14.74346086]\n",
            " [ 2.         20.90601551]\n",
            " [ 3.         17.23282485]\n",
            " [ 4.         32.97509596]]\n"
          ]
        }
      ]
    },
    {
      "cell_type": "code",
      "metadata": {
        "colab": {
          "base_uri": "https://localhost:8080/"
        },
        "id": "mTK3zB84oo1D",
        "outputId": "1c1d75fb-95eb-4ffb-9057-dd4b7d8e7722"
      },
      "source": [
        "print(f\"data shape: {data.shape}\")\n",
        "print(f\"data size: {data.size}\")"
      ],
      "execution_count": 10,
      "outputs": [
        {
          "output_type": "stream",
          "name": "stdout",
          "text": [
            "data shape: (50, 2)\n",
            "data size: 100\n"
          ]
        }
      ]
    },
    {
      "cell_type": "code",
      "metadata": {
        "id": "Q-rcwuBupUGF"
      },
      "source": [
        ""
      ],
      "execution_count": null,
      "outputs": []
    }
  ]
}