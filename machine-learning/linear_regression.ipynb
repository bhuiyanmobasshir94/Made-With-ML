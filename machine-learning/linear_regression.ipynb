{
  "nbformat": 4,
  "nbformat_minor": 0,
  "metadata": {
    "colab": {
      "name": "linear-regression.ipynb",
      "provenance": [],
      "authorship_tag": "ABX9TyN0uoGY4udad+o99WSJV7JM",
      "include_colab_link": true
    },
    "kernelspec": {
      "name": "python3",
      "display_name": "Python 3"
    },
    "language_info": {
      "name": "python"
    }
  },
  "cells": [
    {
      "cell_type": "markdown",
      "metadata": {
        "id": "view-in-github",
        "colab_type": "text"
      },
      "source": [
        "<a href=\"https://colab.research.google.com/github/bhuiyanmobasshir94/Made-With-ML/blob/main/machine-learning/linear_regression.ipynb\" target=\"_parent\"><img src=\"https://colab.research.google.com/assets/colab-badge.svg\" alt=\"Open In Colab\"/></a>"
      ]
    },
    {
      "cell_type": "code",
      "metadata": {
        "id": "6_Ji5s9una5u"
      },
      "source": [
        "import numpy as np\n",
        "import pandas as pd\n",
        "import matplotlib.pyplot as plt"
      ],
      "execution_count": 1,
      "outputs": []
    },
    {
      "cell_type": "code",
      "metadata": {
        "id": "maMJS1StniU2"
      },
      "source": [
        "SEED = 1234\n",
        "NUM_SAMPLES = 50"
      ],
      "execution_count": 2,
      "outputs": []
    },
    {
      "cell_type": "code",
      "metadata": {
        "id": "s7Cw4roNnuz1"
      },
      "source": [
        "# Set seed for reproducibility\n",
        "np.random.seed(SEED)"
      ],
      "execution_count": 3,
      "outputs": []
    },
    {
      "cell_type": "code",
      "metadata": {
        "id": "EHZkx_lknylD"
      },
      "source": [
        "# Generate synthetic data\n",
        "def generate_data(num_samples):\n",
        "    \"\"\"Generate dummy data for linear regression.\"\"\"\n",
        "    X = np.array(range(num_samples))\n",
        "    print(f\"X: {X}\")\n",
        "    random_noise = np.random.uniform(-10, 20, size=num_samples)\n",
        "    print(f\"random_noise: {random_noise}\")\n",
        "    y = 3.5*X + random_noise # add some noise\n",
        "    return X, y"
      ],
      "execution_count": 4,
      "outputs": []
    },
    {
      "cell_type": "code",
      "metadata": {
        "colab": {
          "base_uri": "https://localhost:8080/"
        },
        "id": "zHu3vwPNoZhx",
        "outputId": "1c99ee77-6abc-487a-c101-967f8e7aef99"
      },
      "source": [
        "# Generate random (linear) data\n",
        "X, y = generate_data(num_samples=NUM_SAMPLES)\n",
        "print(f\"X: {X}\")\n",
        "print(f\"y: {y}\")\n",
        "data = np.vstack([X, y]).T\n",
        "print (data[:5])"
      ],
      "execution_count": 9,
      "outputs": [
        {
          "output_type": "stream",
          "name": "stdout",
          "text": [
            "X: [ 0  1  2  3  4  5  6  7  8  9 10 11 12 13 14 15 16 17 18 19 20 21 22 23\n",
            " 24 25 26 27 28 29 30 31 32 33 34 35 36 37 38 39 40 41 42 43 44 45 46 47\n",
            " 48 49]\n",
            "random_noise: [ 1.30134989e+01  1.12434609e+01  1.39060155e+01  6.73282485e+00\n",
            "  1.89750960e+01 -5.58529300e+00 -9.11058998e+00  7.81680478e+00\n",
            " -6.57802904e+00  1.85242955e+01 -2.28777567e-01 -4.19143930e+00\n",
            "  3.73434947e+00  1.76120771e+01  1.63720748e+01 -2.42152735e+00\n",
            "  4.40263786e-01 -4.52233805e+00  1.70538815e+01  1.11958449e+01\n",
            "  1.17997538e+01  1.70026351e+01  1.33749140e+01  7.97464342e+00\n",
            " -1.26624265e+00 -5.45814207e+00  5.52397745e-02  9.72655331e+00\n",
            " -7.79972369e+00 -8.34980814e+00 -3.04155582e-01  7.71445413e+00\n",
            "  1.56169570e+01 -1.38812725e+00 -4.80798320e+00 -5.97936382e+00\n",
            "  1.98396149e+01 -4.61506392e+00 -4.73595309e-01  7.04874214e+00\n",
            " -9.71954276e+00  1.70194586e+01  1.93172429e+01  6.70684037e+00\n",
            " -7.45678470e+00 -9.92602813e-03  1.18528603e+01 -5.72693880e+00\n",
            "  6.57406818e+00 -1.80870221e+00]\n",
            "X: [ 0  1  2  3  4  5  6  7  8  9 10 11 12 13 14 15 16 17 18 19 20 21 22 23\n",
            " 24 25 26 27 28 29 30 31 32 33 34 35 36 37 38 39 40 41 42 43 44 45 46 47\n",
            " 48 49]\n",
            "y: [ 13.01349885  14.74346086  20.90601551  17.23282485  32.97509596\n",
            "  11.914707    11.88941002  32.31680478  21.42197096  50.0242955\n",
            "  34.77122243  34.3085607   45.73434947  63.11207713  65.37207485\n",
            "  50.07847265  56.44026379  54.97766195  80.05388154  77.6958449\n",
            "  81.79975385  90.5026351   90.37491402  88.47464342  82.73375735\n",
            "  82.04185793  91.05523977 104.22655331  90.20027631  93.15019186\n",
            " 104.69584442 116.21445413 127.61695701 114.11187275 114.1920168\n",
            " 116.52063618 145.83961486 124.88493608 132.52640469 143.54874214\n",
            " 130.28045724 160.51945863 166.31724293 157.20684037 146.5432153\n",
            " 157.49007397 172.85286029 158.7730612  174.57406818 169.69129779]\n",
            "[[ 0.         13.01349885]\n",
            " [ 1.         14.74346086]\n",
            " [ 2.         20.90601551]\n",
            " [ 3.         17.23282485]\n",
            " [ 4.         32.97509596]]\n"
          ]
        }
      ]
    },
    {
      "cell_type": "code",
      "metadata": {
        "colab": {
          "base_uri": "https://localhost:8080/"
        },
        "id": "mTK3zB84oo1D",
        "outputId": "1c1d75fb-95eb-4ffb-9057-dd4b7d8e7722"
      },
      "source": [
        "print(f\"data shape: {data.shape}\")\n",
        "print(f\"data size: {data.size}\")"
      ],
      "execution_count": 10,
      "outputs": [
        {
          "output_type": "stream",
          "name": "stdout",
          "text": [
            "data shape: (50, 2)\n",
            "data size: 100\n"
          ]
        }
      ]
    },
    {
      "cell_type": "code",
      "metadata": {
        "colab": {
          "base_uri": "https://localhost:8080/",
          "height": 204
        },
        "id": "Q-rcwuBupUGF",
        "outputId": "bef8267f-396f-480b-88b6-a3aa918b4645"
      },
      "source": [
        "# Load into a Pandas DataFrame\n",
        "df = pd.DataFrame(data, columns=[\"X\", \"y\"])\n",
        "X = df[[\"X\"]].values\n",
        "y = df[[\"y\"]].values\n",
        "df.head()"
      ],
      "execution_count": 11,
      "outputs": [
        {
          "output_type": "execute_result",
          "data": {
            "text/html": [
              "<div>\n",
              "<style scoped>\n",
              "    .dataframe tbody tr th:only-of-type {\n",
              "        vertical-align: middle;\n",
              "    }\n",
              "\n",
              "    .dataframe tbody tr th {\n",
              "        vertical-align: top;\n",
              "    }\n",
              "\n",
              "    .dataframe thead th {\n",
              "        text-align: right;\n",
              "    }\n",
              "</style>\n",
              "<table border=\"1\" class=\"dataframe\">\n",
              "  <thead>\n",
              "    <tr style=\"text-align: right;\">\n",
              "      <th></th>\n",
              "      <th>X</th>\n",
              "      <th>y</th>\n",
              "    </tr>\n",
              "  </thead>\n",
              "  <tbody>\n",
              "    <tr>\n",
              "      <th>0</th>\n",
              "      <td>0.0</td>\n",
              "      <td>13.013499</td>\n",
              "    </tr>\n",
              "    <tr>\n",
              "      <th>1</th>\n",
              "      <td>1.0</td>\n",
              "      <td>14.743461</td>\n",
              "    </tr>\n",
              "    <tr>\n",
              "      <th>2</th>\n",
              "      <td>2.0</td>\n",
              "      <td>20.906016</td>\n",
              "    </tr>\n",
              "    <tr>\n",
              "      <th>3</th>\n",
              "      <td>3.0</td>\n",
              "      <td>17.232825</td>\n",
              "    </tr>\n",
              "    <tr>\n",
              "      <th>4</th>\n",
              "      <td>4.0</td>\n",
              "      <td>32.975096</td>\n",
              "    </tr>\n",
              "  </tbody>\n",
              "</table>\n",
              "</div>"
            ],
            "text/plain": [
              "     X          y\n",
              "0  0.0  13.013499\n",
              "1  1.0  14.743461\n",
              "2  2.0  20.906016\n",
              "3  3.0  17.232825\n",
              "4  4.0  32.975096"
            ]
          },
          "metadata": {},
          "execution_count": 11
        }
      ]
    },
    {
      "cell_type": "code",
      "metadata": {
        "colab": {
          "base_uri": "https://localhost:8080/",
          "height": 281
        },
        "id": "cmMeaeX6rvrA",
        "outputId": "9856a9d6-8ed0-4455-a105-7bff69337f33"
      },
      "source": [
        "# Scatter plot\n",
        "plt.title(\"Generated data\")\n",
        "plt.scatter(x=df[\"X\"], y=df[\"y\"])\n",
        "plt.show()"
      ],
      "execution_count": 12,
      "outputs": [
        {
          "output_type": "display_data",
          "data": {
            "image/png": "[encoded data removed]",
            "text/plain": [
              "<Figure size 432x288 with 1 Axes>"
            ]
          },
          "metadata": {
            "needs_background": "light"
          }
        }
      ]
    },
    {
      "cell_type": "code",
      "metadata": {
        "id": "5lgHriE2ut-e"
      },
      "source": [
        "TRAIN_SIZE = 0.7\n",
        "VAL_SIZE = 0.15\n",
        "TEST_SIZE = 0.15"
      ],
      "execution_count": 13,
      "outputs": []
    },
    {
      "cell_type": "code",
      "metadata": {
        "id": "bmFlnhh2u_nL"
      },
      "source": [
        "# Shuffle data\n",
        "indices = list(range(NUM_SAMPLES))\n",
        "np.random.shuffle(indices)\n",
        "X = X[indices]\n",
        "y = y[indices]"
      ],
      "execution_count": 14,
      "outputs": []
    },
    {
      "cell_type": "code",
      "metadata": {
        "id": "_hSD-lCnvHAP"
      },
      "source": [
        "# Split indices\n",
        "train_start = 0\n",
        "train_end = int(0.7*NUM_SAMPLES)\n",
        "val_start = train_end\n",
        "val_end = int((TRAIN_SIZE+VAL_SIZE)*NUM_SAMPLES)\n",
        "test_start = val_end"
      ],
      "execution_count": 15,
      "outputs": []
    },
    {
      "cell_type": "code",
      "metadata": {
        "colab": {
          "base_uri": "https://localhost:8080/"
        },
        "id": "iYjCqHwevdAT",
        "outputId": "933444d3-977b-4669-b03e-e41f4afc9829"
      },
      "source": [
        "# Split data\n",
        "X_train = X[train_start:train_end]\n",
        "y_train = y[train_start:train_end]\n",
        "X_val = X[val_start:val_end]\n",
        "y_val = y[val_start:val_end]\n",
        "X_test = X[test_start:]\n",
        "y_test = y[test_start:]\n",
        "print (f\"X_train: {X_train.shape}, y_train: {y_train.shape}\")\n",
        "print (f\"X_val: {X_val.shape}, y_test: {y_val.shape}\")\n",
        "print (f\"X_test: {X_test.shape}, y_test: {y_test.shape}\")"
      ],
      "execution_count": 16,
      "outputs": [
        {
          "output_type": "stream",
          "name": "stdout",
          "text": [
            "X_train: (35, 1), y_train: (35, 1)\n",
            "X_val: (7, 1), y_test: (7, 1)\n",
            "X_test: (8, 1), y_test: (8, 1)\n"
          ]
        }
      ]
    },
    {
      "cell_type": "code",
      "metadata": {
        "id": "Cm9iTmv5vhew"
      },
      "source": [
        "def standardize_data(data, mean, std):\n",
        "    return (data - mean)/std"
      ],
      "execution_count": 17,
      "outputs": []
    },
    {
      "cell_type": "code",
      "metadata": {
        "id": "AeMy8meXv2mP"
      },
      "source": [
        "# Determine means and stds\n",
        "X_mean = np.mean(X_train)\n",
        "X_std = np.std(X_train)\n",
        "y_mean = np.mean(y_train)\n",
        "y_std = np.std(y_train)"
      ],
      "execution_count": 18,
      "outputs": []
    },
    {
      "cell_type": "code",
      "metadata": {
        "id": "baDvgxpcv9Lc"
      },
      "source": [
        "# Standardize\n",
        "X_train = standardize_data(X_train, X_mean, X_std)\n",
        "y_train = standardize_data(y_train, y_mean, y_std)\n",
        "X_val = standardize_data(X_val, X_mean, X_std)\n",
        "y_val = standardize_data(y_val, y_mean, y_std)\n",
        "X_test = standardize_data(X_test, X_mean, X_std)\n",
        "y_test = standardize_data(y_test, y_mean, y_std)"
      ],
      "execution_count": 19,
      "outputs": []
    },
    {
      "cell_type": "code",
      "metadata": {
        "colab": {
          "base_uri": "https://localhost:8080/"
        },
        "id": "tAZNU3ZHwEdA",
        "outputId": "5720e9c6-1d0a-4cd0-ab67-71401c324655"
      },
      "source": [
        "# Check (means should be ~0 and std should be ~1)\n",
        "# Check (means should be ~0 and std should be ~1)\n",
        "print (f\"mean: {np.mean(X_test, axis=0)[0]:.1f}, std: {np.std(X_test, axis=0)[0]:.1f}\")\n",
        "print (f\"mean: {np.mean(y_test, axis=0)[0]:.1f}, std: {np.std(y_test, axis=0)[0]:.1f}\")"
      ],
      "execution_count": 20,
      "outputs": [
        {
          "output_type": "stream",
          "name": "stdout",
          "text": [
            "mean: 0.3, std: 1.0\n",
            "mean: 0.5, std: 0.9\n"
          ]
        }
      ]
    },
    {
      "cell_type": "code",
      "metadata": {
        "id": "ObikkFujwPIC"
      },
      "source": [
        "INPUT_DIM = X_train.shape[1] # X is 1-dimensional\n",
        "OUTPUT_DIM = y_train.shape[1] # y is 1-dimensional"
      ],
      "execution_count": 21,
      "outputs": []
    },
    {
      "cell_type": "code",
      "metadata": {
        "colab": {
          "base_uri": "https://localhost:8080/"
        },
        "id": "wZHZLKx1wdDJ",
        "outputId": "c335e4c4-d975-4bac-aff6-8919e68bff39"
      },
      "source": [
        "# Initialize random weights\n",
        "W = 0.01 * np.random.randn(INPUT_DIM, OUTPUT_DIM)\n",
        "b = np.zeros((1, 1))\n",
        "print (f\"W: {W.shape}\")\n",
        "print (f\"b: {b.shape}\")"
      ],
      "execution_count": 22,
      "outputs": [
        {
          "output_type": "stream",
          "name": "stdout",
          "text": [
            "W: (1, 1)\n",
            "b: (1, 1)\n"
          ]
        }
      ]
    },
    {
      "cell_type": "code",
      "metadata": {
        "colab": {
          "base_uri": "https://localhost:8080/"
        },
        "id": "6rcK1jM9woaF",
        "outputId": "4892e815-fccd-4df1-d7f8-00dd265efcc7"
      },
      "source": [
        "# Forward pass [NX1] · [1X1] = [NX1]\n",
        "y_pred = np.dot(X_train, W) + b\n",
        "print (f\"y_pred: {y_pred.shape}\")"
      ],
      "execution_count": 23,
      "outputs": [
        {
          "output_type": "stream",
          "name": "stdout",
          "text": [
            "y_pred: (35, 1)\n"
          ]
        }
      ]
    },
    {
      "cell_type": "code",
      "metadata": {
        "colab": {
          "base_uri": "https://localhost:8080/"
        },
        "id": "uQgHXUqpwxEX",
        "outputId": "2ce63ea3-9363-42e8-c9a3-d7313c691e09"
      },
      "source": [
        "# Loss\n",
        "N = len(y_train)\n",
        "loss = (1/N) * np.sum((y_train - y_pred)**2)\n",
        "print (f\"loss: {loss:.2f}\")"
      ],
      "execution_count": 24,
      "outputs": [
        {
          "output_type": "stream",
          "name": "stdout",
          "text": [
            "loss: 1.02\n"
          ]
        }
      ]
    },
    {
      "cell_type": "code",
      "metadata": {
        "id": "-0KtYte7xKNP"
      },
      "source": [
        "# Backpropagation\n",
        "dW = -(2/N) * np.sum((y_train - y_pred) * X_train)\n",
        "db = -(2/N) * np.sum((y_train - y_pred) * 1)"
      ],
      "execution_count": 25,
      "outputs": []
    },
    {
      "cell_type": "code",
      "metadata": {
        "id": "-mOCJgRmxvZ3"
      },
      "source": [
        "LEARNING_RATE = 1e-1"
      ],
      "execution_count": 26,
      "outputs": []
    },
    {
      "cell_type": "code",
      "metadata": {
        "id": "6moZrEpcyI6L"
      },
      "source": [
        "# Update weights\n",
        "W += -LEARNING_RATE * dW\n",
        "b += -LEARNING_RATE * db"
      ],
      "execution_count": 27,
      "outputs": []
    },
    {
      "cell_type": "code",
      "metadata": {
        "id": "MQMPp3lWyNpG"
      },
      "source": [
        "NUM_EPOCHS = 100"
      ],
      "execution_count": 28,
      "outputs": []
    },
    {
      "cell_type": "code",
      "metadata": {
        "colab": {
          "base_uri": "https://localhost:8080/"
        },
        "id": "q4S49UcByeQy",
        "outputId": "b1b00295-0a48-4ff9-b46b-d077d1566725"
      },
      "source": [
        "# Initialize random weights\n",
        "W = 0.01 * np.random.randn(INPUT_DIM, OUTPUT_DIM)\n",
        "b = np.zeros((1, ))\n",
        "\n",
        "# Training loop\n",
        "for epoch_num in range(NUM_EPOCHS):\n",
        "\n",
        "    # Forward pass [NX1] · [1X1] = [NX1]\n",
        "    y_pred = np.dot(X_train, W) + b\n",
        "\n",
        "    # Loss\n",
        "    loss = (1/len(y_train)) * np.sum((y_train - y_pred)**2)\n",
        "\n",
        "    # Show progress\n",
        "    if epoch_num%10 == 0:\n",
        "        print (f\"Epoch: {epoch_num}, loss: {loss:.3f}\")\n",
        "\n",
        "    # Backpropagation\n",
        "    dW = -(2/N) * np.sum((y_train - y_pred) * X_train)\n",
        "    db = -(2/N) * np.sum((y_train - y_pred) * 1)\n",
        "\n",
        "    # Update weights\n",
        "    W += -LEARNING_RATE * dW\n",
        "    b += -LEARNING_RATE * db"
      ],
      "execution_count": 29,
      "outputs": [
        {
          "output_type": "stream",
          "name": "stdout",
          "text": [
            "Epoch: 0, loss: 0.993\n",
            "Epoch: 10, loss: 0.044\n",
            "Epoch: 20, loss: 0.033\n",
            "Epoch: 30, loss: 0.033\n",
            "Epoch: 40, loss: 0.033\n",
            "Epoch: 50, loss: 0.033\n",
            "Epoch: 60, loss: 0.033\n",
            "Epoch: 70, loss: 0.033\n",
            "Epoch: 80, loss: 0.033\n",
            "Epoch: 90, loss: 0.033\n"
          ]
        }
      ]
    },
    {
      "cell_type": "code",
      "metadata": {
        "id": "Q51tJp4HypzX"
      },
      "source": [
        "# Predictions\n",
        "pred_train = W*X_train + b\n",
        "pred_test = W*X_test + b"
      ],
      "execution_count": 30,
      "outputs": []
    },
    {
      "cell_type": "code",
      "metadata": {
        "colab": {
          "base_uri": "https://localhost:8080/"
        },
        "id": "FtKPxSV0y-vl",
        "outputId": "f919d306-65af-4bc4-c5ea-694344def8e5"
      },
      "source": [
        "# Train and test MSE\n",
        "train_mse = np.mean((y_train - pred_train) ** 2)\n",
        "test_mse = np.mean((y_test - pred_test) ** 2)\n",
        "print (f\"train_MSE: {train_mse:.2f}, test_MSE: {test_mse:.2f}\")"
      ],
      "execution_count": 31,
      "outputs": [
        {
          "output_type": "stream",
          "name": "stdout",
          "text": [
            "train_MSE: 0.03, test_MSE: 0.06\n"
          ]
        }
      ]
    },
    {
      "cell_type": "code",
      "metadata": {
        "colab": {
          "base_uri": "https://localhost:8080/",
          "height": 336
        },
        "id": "Q2fhSOIwzEiN",
        "outputId": "78112cc4-7856-480d-dacb-11539b3799c3"
      },
      "source": [
        "# Figure size\n",
        "plt.figure(figsize=(15,5))\n",
        "\n",
        "# Plot train data\n",
        "plt.subplot(1, 2, 1)\n",
        "plt.title(\"Train\")\n",
        "plt.scatter(X_train, y_train, label=\"y_train\")\n",
        "plt.plot(X_train, pred_train, color=\"red\", linewidth=1, linestyle=\"-\", label=\"model\")\n",
        "plt.legend(loc=\"lower right\")\n",
        "\n",
        "# Plot test data\n",
        "plt.subplot(1, 2, 2)\n",
        "plt.title(\"Test\")\n",
        "plt.scatter(X_test, y_test, label='y_test')\n",
        "plt.plot(X_test, pred_test, color=\"red\", linewidth=1, linestyle=\"-\", label=\"model\")\n",
        "plt.legend(loc=\"lower right\")\n",
        "\n",
        "# Show plots\n",
        "plt.show()"
      ],
      "execution_count": 32,
      "outputs": [
        {
          "output_type": "display_data",
          "data": {
            "image/png": "[encoded data removed]",
            "text/plain": [
              "<Figure size 1080x360 with 2 Axes>"
            ]
          },
          "metadata": {
            "needs_background": "light"
          }
        }
      ]
    },
    {
      "cell_type": "code",
      "metadata": {
        "id": "xbRFlWpXzU3F"
      },
      "source": [
        ""
      ],
      "execution_count": null,
      "outputs": []
    }
  ]
}